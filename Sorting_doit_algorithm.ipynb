{
 "cells": [
  {
   "cell_type": "markdown",
   "id": "f6f6bb21",
   "metadata": {},
   "source": [
    "# 1. Sorting Algorithm\n",
    "\n",
    "Sorting :  항목값의 대소관계에 따라 데이터 집합을 일정한 순서로 늘어놓는 작업   \n",
    "\n",
    "stable algorithm : 값이 같은 원소의 순서가 정렬된 후에도 유지되는 알고리즘   \n",
    "unstable algorithm : 값이 같은 원소의 순서가 정렬된 후에는 유지되지 않는 알고리즘   \n",
    "\n",
    "internal sorting : 하나의 배열에서 정렬 작업을 완료할 수 있는 경우   \n",
    "external sorting : 하나의 배열로 정렬 작업을 완료할 수 없는 경우   \n",
    "     - 별도로 작업용 파일이 필요한 경우도 있다.\n",
    "     \n",
    "정렬 알고리즘의 핵심 : 선택, 교환, 삽입\n",
    "\n",
    "\n",
    "\n"
   ]
  },
  {
   "cell_type": "markdown",
   "id": "86dad399",
   "metadata": {},
   "source": [
    "# 2. Bubble Sorting\n",
    "- 단순교환정렬\n",
    "- **이웃한 두 원소의 대소관계를 비교하여 필요에 따라 교환을 반복하는 알고리즘**\n",
    "- pass : 한 번의 스캔 중 비교, 교환하는 과정\n",
    "- k번의 패스 수행 완료 => k개의 원소 정렬 완료\n",
    "- n개의 원소를 가진 배열에서 정렬 시 필요한 최대 패스 수 : n-1\n",
    "- n-1개의 원소의 정렬이 끝나면 마지막 원소는 이미 가장 최대(최소)값이 위치하게 된다.\n",
    "\n"
   ]
  },
  {
   "cell_type": "code",
   "execution_count": null,
   "id": "d6fa805a",
   "metadata": {},
   "outputs": [],
   "source": [
    "# bubble sorting 1\n",
    "from typing import MutableSequence\n",
    "\n",
    "def bubble_sort_1(a:MutableSequence) -> None:\n",
    "    n = len(a)\n",
    "    \n",
    "    for i in range(n-1):\n",
    "        \"\"\"i_th pass > a[0]-a[i-1]은 정렬완료\"\"\"\n",
    "        for j in range(n-1, i,-1):\n",
    "            \"\"\"정렬 대상: a[i]-a[n-1] \"\"\"\n",
    "            if a[j-1] > a[j]:\n",
    "                a[j-1],a[j] = a[j], a[j-1]\n",
    "\n",
    "if __name__ == '__main__':\n",
    "    print(\"Start Bubble Sort\")\n",
    "    num = int(input(\"length of arr : \"))\n",
    "    \n",
    "    x= [None]*num\n",
    "    \n",
    "    for i in range(num):\n",
    "        x[i] = int(input(\"x[i]: \"))\n",
    "    \n",
    "    bubble_sort_1(x)\n",
    "    \n",
    "    print(\"Ascending Sort Complete\")\n",
    "    for i in range(num):\n",
    "        print(f'x[{i}] = {x[i]}')\n",
    "        \n",
    "\"\"\"\n",
    "총 비교 횟수 : (n-1) + (n-2) + ... + 2 + 1 = n(n-1)/2\n",
    "원소를 교환한 횟수의 평균 : n(n-1)/4\n",
    "\n",
    "> 마지막 (n-1)번째 패스 전에 정렬이 완료된 경우에도 이후 패스를 수행한다.\n",
    "> 이미 정렬을 마친 상태에서는 해당 패스에서 원소 교환이 발생하지 않는다.\n",
    "> 특정 패스에서 원소 교환 횟수가 0라면 모든 원소가 정렬이 완료된 상태!\n",
    ">> 특정 패스에서 원소 교환 횟수가 0이면 이후 패스는 불필요하다.\n",
    ">>> 각 패스에서 원소 교환 횟수를 counting 하는 변수가 필요하다.\n",
    "\"\"\"\n",
    "    \n",
    "def bubble_sort_2(a:MutableSequence) -> None:\n",
    "    \"\"\"특정 패스에서 원소 교환 횟수가 0이면 이후 패스를 수행하지 않습니다.\"\"\"\n",
    "    n = len(a)\n",
    "    for i in range(n-1):\n",
    "        \"\"\"i_th pass\"\"\"\n",
    "        exchagn = 0 # i_th pass에서 원소 교환 횟수\n",
    "        for j in range(n-1, i, -1):\n",
    "            if a[j-1] > a[j]:\n",
    "                a[j-1],a[j] = a[j], a[j-1]\n",
    "                exchagn += 1\n",
    "        \n",
    "        if exchagn == 0:\n",
    "            break\n",
    "\n",
    "\"\"\"\n",
    "한 번의 패스에서 특정 원소 이후 원소 교환이 발생하지 않는다면,\n",
    "특정 원소 기준으로 앞쪽은 정렬이 완료된 상태이다.\n",
    "> 다음 패스에서 정렬 대상 범위를 줄일 수 있다.\n",
    ">> 패스에서 마지막으로 원소 교환이 발생한 경우, \n",
    "  교환 후 오른쪽의 위치를 다음 패스의 도착점으로 설정\n",
    ">> 마지막 교환 위치를 담을 변수가 필요하다.  \n",
    "\"\"\"\n",
    "\n",
    "def bubble_sort_3(a:MutableSequence)-> None:\n",
    "    n = len(a)\n",
    "    for i in range(n-1):\n",
    "        for j in range(n-1, k, -1):\n",
    "            if a[j-1] > a[j]:\n",
    "                a[j-1], a[j] = a[j], a[j-1]\n",
    "                last = j\n",
    "        k = j #i_th pass의 마지막에 k를 update한다! 注意！！！\n",
    "    \n",
    "        \n",
    "            \n",
    " \n"
   ]
  },
  {
   "cell_type": "markdown",
   "id": "705223dc",
   "metadata": {},
   "source": [
    "## shaker sort\n",
    "\n",
    "- 패스의 스캔 방향을 번갈아 바꾼다.\n",
    "- 홀수 패스에서는 가장 작은 원소를 맨 앞으로\n",
    "- 짝수 패스에서는 가장 큰 원소를 맨 뒤로 \n",
    "- shaker sort, bidirectional bubble sort, cocktail sort \n",
    "\n",
    "\n",
    "\n"
   ]
  },
  {
   "cell_type": "code",
   "execution_count": null,
   "id": "00885d5c",
   "metadata": {},
   "outputs": [],
   "source": [
    "from typing import MutableSequence\n",
    "\n",
    "def shacker_sort(a:MutableSequence) -> None:\n",
    "    left = 0 #왼쪽 시작점\n",
    "    right = len(a)-1 #오른쪽 시작점\n",
    "    last = right # 한 번의 패스에서 마지막으로 원소 교환이 발생한 지점\n",
    "\n",
    "    while left < right:\n",
    "        \"\"\" pass : <- \"\"\"\n",
    "        for j in range(right, left, -1):\n",
    "            if a[j-1] > a[j]:\n",
    "                a[j-1], a[j] = a[j], a[j-1]\n",
    "                last = j\n",
    "        left = last\n",
    "        \"\"\" pass : -> \"\"\"    \n",
    "        for j in range(left, right):\n",
    "            if a[j] > a[j+1]:\n",
    "                a[j],a[j+1] = a[j+1],a[j]\n",
    "                last = j\n",
    "        right = last\n",
    "        "
   ]
  },
  {
   "cell_type": "markdown",
   "id": "c7645865",
   "metadata": {},
   "source": [
    "## 산술 연산 내장 함수\n",
    "```\n",
    "abs(x) : 절댓값\n",
    "\n",
    "bool(x) : 논리값을 반환\n",
    "\n",
    "complex(real, imag) :\n",
    "    허수 : complex number\n",
    "    real : 생성될 복소수의 실수 부분\n",
    "    imag : 생성될 복소수의 허수 부분\n",
    "    z = comlext(2,3)\n",
    "    print(x) # (2+3j)\n",
    "    ** 파이썬에서 복소수 표현에 사용되는 허수 단위는 j입니다.\n",
    "\n",
    "divmod(a, b) : (몫, 나머지)\n",
    "\n",
    "float(x) : 부동 소수점 수로 변환하여 값을 반환\n",
    "int(x, base) : int형 정수로 변환한 값을 반환합니다.\n",
    "\n",
    "hex(x) : 10진수를 16진수로 변환\n",
    "oct(x) : 10진수 8진수로 변환\n",
    "\n",
    "max()\n",
    "min()\n",
    "\n",
    "pow(x,y) : x**y\n",
    "pow(x, y, z) : (x**y)%2\n",
    "\n",
    "round(n, ndigits) : n의 소숫점 아래 ndigits 자리까지 반올림해서 출력. None인 경우 > 가장 가까운 정수 반환\n",
    "        print(round(3.14, None)) #3\n",
    "        print(round(3.56, None)) #4\n",
    "        \n",
    "sum(s, start = )\n",
    "```"
   ]
  },
  {
   "cell_type": "code",
   "execution_count": 2,
   "id": "3d0324f8",
   "metadata": {},
   "outputs": [
    {
     "name": "stdout",
     "output_type": "stream",
     "text": [
      "3\n",
      "4\n"
     ]
    }
   ],
   "source": [
    "print(round(3.14, None))\n",
    "print(round(3.56, None))"
   ]
  },
  {
   "cell_type": "markdown",
   "id": "d6fe24e4",
   "metadata": {},
   "source": [
    "# 3. Straight Selection Sorting\n",
    "- **정렬 대상 범위에서 가장 작은 원소를 선택해 알맞은 위치로 옮기는 작업을 반복하면서 정렬을 수행하는 방법**\n",
    "\n",
    "> 6 4 8 3 1 9 7    \n",
    ">> 가장 작은 원소 1을 정렬 대상 범위의 가장 앞 원소와 '**교환**' 한다 \n",
    "\n",
    "> 1 4 8 3 6 9 7    \n",
    ">> 정렬 대상 범위 4 8 3 6 9 7       \n",
    ">> 가장 작은 원소 3을 가장 앞 원소 4와 교환 \n",
    "\n",
    "> 1 3 8 4 6 9 7    \n",
    ">> 정렬 대상 범위 8 4 6 9 7    \n",
    ">> 가장 작은 원소 4와 가장 앞 원소 8과 교환\n",
    "> 1 3 4 8 6 9 7 \n",
    "...   \n",
    "\n",
    "    [  정렬이 완료된 부분  ][ [ 가장 앞 원소 ] 정렬이 완료되지 않은 부분  ]\n",
    "    \n",
    "**한 번의 pass 에서** \n",
    "\n",
    "1. 아직 정렬되지 않은 부분에서 값이 가장 작은 원소 a[min]을 선택한다.\n",
    "2. a[min]과 정렬 대상 범위의 가장 앞의 원소 a[i]를 교환한다.\n",
    "\n",
    "\n",
    "\n",
    "\n"
   ]
  },
  {
   "cell_type": "markdown",
   "id": "4d2569e7",
   "metadata": {},
   "source": [
    "# 4. Straight Insertion Sorting"
   ]
  },
  {
   "cell_type": "markdown",
   "id": "9016a6ac",
   "metadata": {},
   "source": [
    "# 5. Shell Sorting"
   ]
  },
  {
   "cell_type": "markdown",
   "id": "a72ded5d",
   "metadata": {},
   "source": [
    "# 6. Quick Sorting"
   ]
  },
  {
   "cell_type": "markdown",
   "id": "8e86c5e2",
   "metadata": {},
   "source": [
    "# 7. Merge Sorting"
   ]
  },
  {
   "cell_type": "markdown",
   "id": "1bf87b98",
   "metadata": {},
   "source": [
    "# 8. Heap Sorting"
   ]
  },
  {
   "cell_type": "markdown",
   "id": "c9f4a396",
   "metadata": {},
   "source": [
    "# 9. Frequency Sorting\n"
   ]
  }
 ],
 "metadata": {
  "kernelspec": {
   "display_name": "Python 3 (ipykernel)",
   "language": "python",
   "name": "python3"
  },
  "language_info": {
   "codemirror_mode": {
    "name": "ipython",
    "version": 3
   },
   "file_extension": ".py",
   "mimetype": "text/x-python",
   "name": "python",
   "nbconvert_exporter": "python",
   "pygments_lexer": "ipython3",
   "version": "3.11.5"
  }
 },
 "nbformat": 4,
 "nbformat_minor": 5
}
