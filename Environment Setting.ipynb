{
 "cells": [
  {
   "cell_type": "markdown",
   "id": "4380c7db",
   "metadata": {},
   "source": [
    "# conda 가상환경\n",
    "\n",
    "```\n",
    "가상환경 생성 : conda create -n 가상환경이름 python=3.xx\n",
    "\n",
    "생성된 가상환경 목록 확인 : conda env list\n",
    "\n",
    "가상환경 실행 : conda activate 가상환경이름\n",
    "\n",
    "가상환경 종료 : deactivate\n",
    "\n",
    "가상환경 삭제 : conda remote -n 가상환경이름 --all\n",
    "\n",
    "```\n",
    "\n",
    "환경 변수 (Environment Variables):   \n",
    "\n",
    "환경 변수 설정: Set environment variables   \n",
    "환경 변수 확인: Check environment variables   \n",
    "패키지 관리자 (Package Manager):   \n",
    "   \n",
    "패키지 설치: Install packages   \n",
    "패키지 업그레이드: Upgrade packages   \n",
    "패키지 제거: Remove packages   \n",
    "가상 환경 (Virtual Environment):   \n",
    "\n",
    "가상 환경 생성: Create a virtual environment   \n",
    "가상 환경 활성화: Activate a virtual environment   \n",
    "가상 환경 비활성화: Deactivate a virtual environment   \n",
    "라이브러리 설치 (Library Installation):   \n",
    "\n",
    "라이브러리 설치: Install libraries   \n",
    "라이브러리 업그레이드: Upgrade libraries     \n",
    "라이브러리 제거: Remove libraries   \n",
    "설정 파일 (Configuration File):   \n",
    "\n",
    "설정 파일 편집: Edit configuration files   \n",
    "설정 파일 확인: Check configuration files   \n",
    "설정 파일 백업: Backup configuration files   "
   ]
  },
  {
   "cell_type": "markdown",
   "id": "2ddd794b",
   "metadata": {},
   "source": [
    "# 가상환경 & Jupyter Notebook\n",
    "```\n",
    "python -m ipykernel install\n",
    "```"
   ]
  },
  {
   "cell_type": "markdown",
   "id": "5bb35070",
   "metadata": {},
   "source": [
    "# pip\n",
    "\n",
    "```\n",
    "pip install 패키지명\n",
    "pip list\n",
    "\n",
    "```"
   ]
  },
  {
   "cell_type": "markdown",
   "id": "33c1df43-6bb3-4172-b2c0-30030c4bf59d",
   "metadata": {},
   "source": [
    "# .ipynb -> .py\n",
    "\n",
    "```\n",
    "pip install nbconvert\n",
    "\n",
    "jupyter nbconvert --to script 파일이름.ipynb\n",
    "```\n"
   ]
  },
  {
   "cell_type": "code",
   "execution_count": null,
   "id": "97802c4e-fb60-424c-b112-038f2643c846",
   "metadata": {},
   "outputs": [],
   "source": []
  },
  {
   "cell_type": "code",
   "execution_count": null,
   "id": "30cd9519-7c44-4047-9b8b-3628e265f0ed",
   "metadata": {},
   "outputs": [],
   "source": []
  },
  {
   "cell_type": "code",
   "execution_count": null,
   "id": "22423ef2-aafe-474a-ae0e-4ef29d3a1ec4",
   "metadata": {},
   "outputs": [],
   "source": []
  },
  {
   "cell_type": "code",
   "execution_count": null,
   "id": "90e606f1-87af-4f1b-90b8-2f320d63f329",
   "metadata": {},
   "outputs": [],
   "source": []
  }
 ],
 "metadata": {
  "kernelspec": {
   "display_name": "Python 3 (ipykernel)",
   "language": "python",
   "name": "python3"
  },
  "language_info": {
   "codemirror_mode": {
    "name": "ipython",
    "version": 3
   },
   "file_extension": ".py",
   "mimetype": "text/x-python",
   "name": "python",
   "nbconvert_exporter": "python",
   "pygments_lexer": "ipython3",
   "version": "3.9.18"
  }
 },
 "nbformat": 4,
 "nbformat_minor": 5
}
