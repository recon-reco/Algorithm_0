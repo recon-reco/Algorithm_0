{
 "cells": [
  {
   "cell_type": "markdown",
   "id": "588178cc",
   "metadata": {},
   "source": [
    "## 피타고라스 정리 : \n",
    "직각삼각형의 한 변의 길이를 나타내는 정수 a와 빗변의 길이를 나타내는 정수 c가 주어질 때, 다른 한 변의 길이의 제곱, b_square 을 출력하도록 한 줄을 수정해 코드를 완성해 주세요.\n",
    "\n",
    "제한사항\n",
    "1 ≤ a < c ≤ 100\n"
   ]
  },
  {
   "cell_type": "code",
   "execution_count": 4,
   "id": "ae3c99fd",
   "metadata": {},
   "outputs": [
    {
     "name": "stdout",
     "output_type": "stream",
     "text": [
      "16\n"
     ]
    },
    {
     "data": {
      "text/plain": [
       "'\\n- pow(x, y) <> x**y\\n- if 는 삼항연산자이다. \\n    (참일 때 결과) if (조건) else (거짓일 때 결과)\\n- & 비트 연산자 , and 논리연산자  반드시 구분해서 사용\\n'"
      ]
     },
     "execution_count": 4,
     "metadata": {},
     "output_type": "execute_result"
    }
   ],
   "source": [
    "#a = int(input())\n",
    "#c = int(input())\n",
    "\n",
    "a = 3\n",
    "c = 5\n",
    "\n",
    "b_square = pow(c,2)-pow(a,2) if (1<=a)and(a<c)and(c<=100) else None\n",
    "print(b_square)\n",
    "\n",
    "\"\"\"\n",
    "- pow(x, y) <> x**y\n",
    "- if 는 삼항연산자이다. \n",
    "    (참일 때 결과) if (조건) else (거짓일 때 결과)\n",
    "- & 비트 연산자 , and 논리연산자  반드시 구분해서 사용\n",
    "\"\"\""
   ]
  },
  {
   "cell_type": "markdown",
   "id": "f3661700",
   "metadata": {},
   "source": [
    "## 두 수의 나눗셈\n",
    "문제 설명\n",
    "정수 num1과 num2가 매개변수로 주어질 때, num1을 num2로 나눈 값에 1,000을 곱한 후 정수 부분을 return 하도록 soltuion 함수를 완성해주세요.\n",
    "\n",
    "제한사항\n",
    "0 < num1 ≤ 100\n",
    "0 < num2 ≤ 100\n",
    "\n",
    "\n",
    "\n"
   ]
  },
  {
   "cell_type": "code",
   "execution_count": 5,
   "id": "5dd77949",
   "metadata": {},
   "outputs": [
    {
     "data": {
      "text/plain": [
       "'\\n재사용이 없는 함수 내 지역변수는 굳이 변수에 담지 않는 것을 추천\\n'"
      ]
     },
     "execution_count": 5,
     "metadata": {},
     "output_type": "execute_result"
    }
   ],
   "source": [
    "def solution(num1, num2):\n",
    "    answer = ((num1/num2)*1000)//1\n",
    "    return answer\n",
    "\n",
    "\n",
    "def solution_2(num1, num2):\n",
    "    return int((num1/num2)**1000)\n",
    "\"\"\"\n",
    "재사용이 없는 함수 내 지역변수는 굳이 변수에 담지 않는 것을 추천\n",
    "\"\"\""
   ]
  },
  {
   "cell_type": "markdown",
   "id": "87814202",
   "metadata": {},
   "source": [
    "## 각도기\n",
    "문제 설명\n",
    "각에서 0도 초과 90도 미만은 예각, 90도는 직각, 90도 초과 180도 미만은 둔각 180도는 평각으로 분류합니다. 각 angle이 매개변수로 주어질 때 예각일 때 1, 직각일 때 2, 둔각일 때 3, 평각일 때 4를 return하도록 solution 함수를 완성해주세요.\n",
    "\n",
    "예각 : 0 < angle < 90\n",
    "직각 : angle = 90\n",
    "둔각 : 90 < angle < 180\n",
    "평각 : angle = 180\n",
    "제한사항\n",
    "0 < angle ≤ 180\n",
    "angle은 정수입니다."
   ]
  },
  {
   "cell_type": "code",
   "execution_count": 6,
   "id": "dbb5fb09",
   "metadata": {},
   "outputs": [
    {
     "ename": "SyntaxError",
     "evalue": "invalid syntax (3822331138.py, line 18)",
     "output_type": "error",
     "traceback": [
      "\u001b[0;36m  Cell \u001b[0;32mIn[6], line 18\u001b[0;36m\u001b[0m\n\u001b[0;31m    retrun 3 if angle < 180 else 4\u001b[0m\n\u001b[0m           ^\u001b[0m\n\u001b[0;31mSyntaxError\u001b[0m\u001b[0;31m:\u001b[0m invalid syntax\n"
     ]
    }
   ],
   "source": [
    "def solution(angle):\n",
    "    if 0<angle<=180:\n",
    "        if 0<angle < 90:\n",
    "            return 1\n",
    "        elif angle == 90 :\n",
    "            return 2\n",
    "        elif 90<angle<180:\n",
    "            return 3\n",
    "        else :\n",
    "            return 4\n",
    "    else : \n",
    "        print(\"유효하지 않은 각을 입력했습니다.\")\n",
    "\n",
    "def sol_2(angle):\n",
    "    if angle <= 90:\n",
    "        return 1 if angle < 90 else 2 \n",
    "    else : \n",
    "        retrun 3 if angle < 180 else 4 "
   ]
  },
  {
   "cell_type": "markdown",
   "id": "7a3ae516",
   "metadata": {},
   "source": [
    "피자 나눠먹기 3\n",
    "\n",
    "문제 설명\n",
    "머쓱이네 피자가게는 피자를 두 조각에서 열 조각까지 원하는 조각 수로 잘라줍니다. 피자 조각 수 slice와 피자를 먹는 사람의 수 n이 매개변수로 주어질 때, n명의 사람이 최소 한 조각 이상 피자를 먹으려면 최소 몇 판의 피자를 시켜야 하는지를 return 하도록 solution 함수를 완성해보세요.\n",
    "\n",
    "제한사항\n",
    "2 ≤ slice ≤ 10\n",
    "1 ≤ n ≤ 100"
   ]
  },
  {
   "cell_type": "code",
   "execution_count": null,
   "id": "88cae6ae",
   "metadata": {},
   "outputs": [],
   "source": [
    "def solution(slice, n):\n",
    "    # 한 판을 slice개의 조각으로 나누어 n명에게 나누어줌\n",
    "    #4조각 / 9명 > 3판이 필요 : 인원수 <= 조각*판수\n",
    "    #(인원수//조각수)+1 \n",
    "    if n % slice == 0: # == \n",
    "        return n // slice\n",
    "    else :\n",
    "        return (n//slice)+1"
   ]
  },
  {
   "cell_type": "markdown",
   "id": "0d4bd0d3",
   "metadata": {},
   "source": [
    "중앙값 구하기\n",
    "문제 설명\n",
    "중앙값은 어떤 주어진 값들을 크기의 순서대로 정렬했을 때 가장 중앙에 위치하는 값을 의미합니다. 예를 들어 1, 2, 7, 10, 11의 중앙값은 7입니다. 정수 배열 array가 매개변수로 주어질 때, 중앙값을 return 하도록 solution 함수를 완성해보세요.\n",
    "\n",
    "제한사항\n",
    "array의 길이는 홀수입니다.\n",
    "0 < array의 길이 < 100\n",
    "-1,000 < array의 원소 < 1,000"
   ]
  },
  {
   "cell_type": "code",
   "execution_count": null,
   "id": "1a9e4579",
   "metadata": {},
   "outputs": [],
   "source": [
    "def solution(array):\n",
    "    #정렬\n",
    "    sorted_a = sorted(array) #.sort() / sorted()\n",
    "    \n",
    "    #중앙값 위치 인덱스 계산\n",
    "    m = len(array)//2\n",
    "    \n",
    "    return sorted_a[m]\n",
    "\"\"\"\n",
    "sorted() 함수는 새로운 정렬된 배열을 반환하고, sort() 메서드는 원본 배열을 직접 수정합니다.\n",
    "\"\"\""
   ]
  },
  {
   "cell_type": "markdown",
   "id": "5d5e3df8",
   "metadata": {},
   "source": [
    "배열의 평균값\n",
    "문제 설명\n",
    "정수 배열 numbers가 매개변수로 주어집니다. numbers의 원소의 평균값을 return하도록 solution 함수를 완성해주세요.\n",
    "\n",
    "제한사항\n",
    "0 ≤ numbers의 원소 ≤ 1,000\n",
    "1 ≤ numbers의 길이 ≤ 100\n",
    "정답의 소수 부분이 .0 또는 .5인 경우만 입력으로 주어집니다."
   ]
  },
  {
   "cell_type": "code",
   "execution_count": null,
   "id": "78b3a523",
   "metadata": {},
   "outputs": [],
   "source": [
    "def solution(numbers):\n",
    "    if len(numbers) != 0:\n",
    "        total = sum(numbers)\n",
    "        average = total / len(numbers)\n",
    "    \n",
    "    return average if average%1 == 0.0 or average%1==0.5 else round(average)"
   ]
  },
  {
   "cell_type": "code",
   "execution_count": null,
   "id": "c705ebbb",
   "metadata": {},
   "outputs": [],
   "source": [
    "제곱수 판별하기\n",
    "문제 설명\n",
    "어떤 자연수를 제곱했을 때 나오는 정수를 제곱수라고 합니다. 정수 n이 매개변수로 주어질 때, n이 제곱수라면 1을 아니라면 2를 return하도록 solution 함수를 완성해주세요.\n",
    "\n",
    "제한사항\n",
    "1 ≤ n ≤ 1,000,000\n"
   ]
  },
  {
   "cell_type": "code",
   "execution_count": null,
   "id": "d43ff64d",
   "metadata": {},
   "outputs": [],
   "source": [
    "def solution(n):\n",
    "    #제곱수 : 1\n",
    "    if int(n**(1/2))**2 == n :\n",
    "        return 1\n",
    "    #제곱수 아님 : 2\n",
    "    else:\n",
    "        return 2\n",
    "\n",
    "    "
   ]
  },
  {
   "cell_type": "markdown",
   "id": "8d3f526c",
   "metadata": {},
   "source": [
    "짝수의 합\n",
    "문제 설명\n",
    "정수 n이 주어질 때, n이하의 짝수를 모두 더한 값을 return 하도록 solution 함수를 작성해주세요.\n",
    "\n",
    "제한사항\n",
    "0 < n ≤ 1000"
   ]
  },
  {
   "cell_type": "code",
   "execution_count": null,
   "id": "d01de98e",
   "metadata": {},
   "outputs": [],
   "source": [
    "def solution(n):\n",
    "    if 0< n <= 1000:\n",
    "        sum = 0\n",
    "        for x in range(n+1):\n",
    "            if x % 2 == 0 :\n",
    "                sum += x\n",
    "        return sum\n",
    "\n",
    "    "
   ]
  },
  {
   "cell_type": "markdown",
   "id": "b896b9f3",
   "metadata": {},
   "source": [
    "세균 증식\n",
    "문제 설명\n",
    "어떤 세균은 1시간에 두배만큼 증식한다고 합니다. 처음 세균의 마리수 n과 경과한 시간 t가 매개변수로 주어질 때 t시간 후 세균의 수를 return하도록 solution 함수를 완성해주세요.\n",
    "\n",
    "제한사항\n",
    "1 ≤ n ≤ 10\n",
    "1 ≤ t ≤ 15\n"
   ]
  },
  {
   "cell_type": "code",
   "execution_count": null,
   "id": "762b3b58",
   "metadata": {},
   "outputs": [],
   "source": [
    "def solution(n, t):\n",
    "    for _ in range(1,t+1):\n",
    "        n *= 2\n",
    "    return n"
   ]
  },
  {
   "cell_type": "markdown",
   "id": "d521b1f3",
   "metadata": {},
   "source": [
    "옷가게 할인 받기\n",
    "문제 설명\n",
    "머쓱이네 옷가게는 10만 원 이상 사면 5%, 30만 원 이상 사면 10%, 50만 원 이상 사면 20%를 할인해줍니다.\n",
    "구매한 옷의 가격 price가 주어질 때, 지불해야 할 금액을 return 하도록 solution 함수를 완성해보세요.\n",
    "\n",
    "제한사항\n",
    "10 ≤ price ≤ 1,000,000\n",
    "price는 10원 단위로(1의 자리가 0) 주어집니다.\n",
    "소수점 이하를 버린 정수를 return합니다.\n"
   ]
  },
  {
   "cell_type": "code",
   "execution_count": null,
   "id": "25669c9d",
   "metadata": {},
   "outputs": [],
   "source": [
    "def solution(price):\n",
    "    if 10<= price <= 1000000:\n",
    "        if price >= 500000:\n",
    "            return int(price*0.8)\n",
    "        elif price >= 300000:\n",
    "            return int(price*0.9)\n",
    "        elif price >= 100000 :\n",
    "            return int(price*0.95)\n",
    "        else :\n",
    "            return price #할인이 적용되지 않은 가격!!!"
   ]
  },
  {
   "cell_type": "code",
   "execution_count": null,
   "id": "b8f60ae8",
   "metadata": {},
   "outputs": [],
   "source": [
    "#분수의 덧셈\n",
    "\"\"\"\n",
    "numer1/denom1\n",
    "numer2/denom2\n",
    "\n",
    "두 분수를 더한 결과를 기약분수로 나타냈을 때 분자, 분모를 순서로 담은 배열을 return\n",
    "\n",
    "0 < ... < 1000\n",
    "\"\"\"\"\n",
    "import math\n",
    "\n",
    "def solution(numer1, denom1, numer2, denom2):\n",
    "    #3/4 + 2/6 > 분모 최소공배수 > 분자 각각에 필요 숫자 곱하기 > 분자 분모의 최대공약수로 약분\n",
    "    #분자 = (분자 1 * 분모2) + (분자 2 * 분모 1)\n",
    "    #분모 = 분모 1 * 분모 2\n",
    "    #분자, 분모의 최대공약수 구하기 : math 모듈에 있는 gcd() 함수\n",
    "    #약분 gr = gcd(분자, 분모)\n",
    "    \n",
    "    #분모가 같을 때 > 빠르게 처리할 수 있지 않을까.\n",
    "    if denom1 == denom2 :\n",
    "        u = numer1+numer2\n",
    "        l = denom1\n",
    "        gr = math.gcd(u,l)\n",
    "        return [u/gr, l/gr] \n",
    "    else :\n",
    "        u = (numer1*denom2)+(numer2*denom1)\n",
    "        l = denom1 * denom2\n",
    "        gr = math.gcd(u, l)\n",
    "        return [u/gr, l/gr] \n",
    "    "
   ]
  },
  {
   "cell_type": "code",
   "execution_count": null,
   "id": "f3250e6d",
   "metadata": {},
   "outputs": [],
   "source": [
    "\"\"\"\n",
    "배열 두 배 만들기\n",
    "\n",
    "정수 배열 numbers가 매개변수로 주어집니다.\n",
    "numers의 각 원소에 두 배한 원소를 가진 배열을 return하도록 solution 함수를 완성\n",
    "\n",
    "제한사항\n",
    "-10,000 ≤ numbers의 원소 ≤ 10,000\n",
    "1 ≤ numbers의 길이 ≤ 1,000\n",
    "\"\"\"\n",
    "\n",
    "#map(lamda x : x*2 , numbers)\n",
    "\n",
    "def solution(numbers):\n",
    "    return list(map(lambda x : x*2, numbers))\n",
    "    "
   ]
  },
  {
   "cell_type": "code",
   "execution_count": null,
   "id": "02818202",
   "metadata": {},
   "outputs": [
    {
     "ename": "SyntaxError",
     "evalue": "'return' outside function (2816681303.py, line 19)",
     "output_type": "error",
     "traceback": [
      "\u001b[0;36m  Cell \u001b[0;32mIn[2], line 19\u001b[0;36m\u001b[0m\n\u001b[0;31m    return 12000*n + 2000*(k-(n//10))\u001b[0m\n\u001b[0m    ^\u001b[0m\n\u001b[0;31mSyntaxError\u001b[0m\u001b[0;31m:\u001b[0m 'return' outside function\n"
     ]
    }
   ],
   "source": [
    "\"\"\"\n",
    "#양꼬치\n",
    "\n",
    "10인분을 먹으면 음료수 하나 서비스\n",
    "1인분에 12000\n",
    "음료수는 2000\n",
    "양꼬치 n인분과 음료수 k개를 먹었다면 지불해야하는 총 가격은?\n",
    "\n",
    "0 < n < 1,000\n",
    "n / 10 ≤ k < 1,000\n",
    "서비스로 받은 음료수는 모두 마십니다.\n",
    "\"\"\"\n",
    "\n",
    "#10인분 > 총 음료수 가격 : 2000*(k-1)\n",
    "#20인분 > 총 음료수 가격 : 2000*(k-2)\n",
    "#2000*(k-(n//10))\n",
    "def solution(n,k):\n",
    "    if n >= 10:\n",
    "        return 12000*n + 2000*(k-(n//10))\n",
    "    else:\n",
    "        return 12000*n + 2000*k\n"
   ]
  },
  {
   "cell_type": "code",
   "execution_count": null,
   "id": "451080ba",
   "metadata": {},
   "outputs": [],
   "source": [
    "\"\"\"\n",
    "#문자열 뒤집기\n",
    "문제 설명\n",
    "문자열 my_string이 매개변수로 주어집니다. \n",
    "my_string을 거꾸로 뒤집은 문자열을 return하도록 solution 함수를 완성해주세요.\n",
    "\n",
    "제한사항\n",
    "1 ≤ my_string의 길이 ≤ 1,000\n",
    "\"\"\"\n",
    "def solution(my_string):\n",
    "    if 1<=len(my_string)<=1000:\n",
    "        lst = list(my_string)\n",
    "        ans = \"\"\n",
    "        for i in range(1,len(lst)+1):\n",
    "            ans += str(lst[-i])\n",
    "        return ans\n"
   ]
  },
  {
   "cell_type": "code",
   "execution_count": null,
   "id": "af7d9735",
   "metadata": {},
   "outputs": [],
   "source": [
    "\"\"\"\n",
    "피자나눠먹기 1\n",
    "\n",
    "문제 설명\n",
    "머쓱이네 피자가게는 피자를 일곱 조각으로 잘라 줍니다. 피자를 나눠먹을 사람의 수 n이 주어질 때, 모든 사람이 피자를 한 조각 이상 먹기 위해 필요한 피자의 수를 return 하는 solution 함수를 완성해보세요.\n",
    "\n",
    "제한사항\n",
    "1 ≤ n ≤ 100\n",
    "\"\"\"\n",
    "\n",
    "def solution(n):\n",
    "    # 피자 수 * 7 >= n\n",
    "    return n//7 if n%7==0 else n//7+1"
   ]
  },
  {
   "cell_type": "code",
   "execution_count": null,
   "id": "e725ebc4",
   "metadata": {},
   "outputs": [],
   "source": [
    "\"\"\"\n",
    "삼각형의 완성조건 (1)\n",
    "문제 설명\n",
    "선분 세 개로 삼각형을 만들기 위해서는 다음과 같은 조건을 만족해야 합니다.\n",
    "\n",
    "가장 긴 변의 길이는 다른 두 변의 길이의 합보다 작아야 합니다.\n",
    "삼각형의 세 변의 길이가 담긴 배열 sides이 매개변수로 주어집니다. 세 변으로 삼각형을 만들 수 있다면 1, 만들 수 없다면 2를 return하도록 solution 함수를 완성해주세요.\n",
    "\n",
    "제한사항\n",
    "sides의 원소는 자연수입니다.\n",
    "sides의 길이는 3입니다.\n",
    "1 ≤ sides의 원소 ≤ 1,000\n",
    "\"\"\"\n",
    "\n",
    "def solution(sides):\n",
    "    #가장 긴 변의 길이는 다른 두 변의 길이의 합보다 작다.\n",
    "    max_l = max(sides)\n",
    "    #삼각형 성공\n",
    "    #다른 두 변을 어떻게 담을까\n",
    "    if sum(sides)-2*max_l >0 :\n",
    "        return 1\n",
    "    #삼각형 실패\n",
    "    else :\n",
    "        return 2"
   ]
  },
  {
   "cell_type": "code",
   "execution_count": null,
   "id": "fb2fa890",
   "metadata": {},
   "outputs": [],
   "source": [
    "\"\"\"\n",
    "배열 뒤집기\n",
    "문제 설명\n",
    "정수가 들어 있는 배열 num_list가 매개변수로 주어집니다. num_list의 원소의 순서를 거꾸로 뒤집은 배열을 return하도록 solution 함수를 완성해주세요.\n",
    "\n",
    "제한사항\n",
    "1 ≤ num_list의 길이 ≤ 1,000\n",
    "0 ≤ num_list의 원소 ≤ 1,000\n",
    "\"\"\"\n",
    "\n",
    "def solution(num_list):\n",
    "    ans_lst = []\n",
    "    for i in range(1,len(num_list)+1):\n",
    "        ans_lst.append(num_list[-i])\n",
    "    return ans_lst\n"
   ]
  },
  {
   "cell_type": "code",
   "execution_count": null,
   "id": "3e9e6ff5",
   "metadata": {},
   "outputs": [],
   "source": [
    "\"\"\"\n",
    "특정 문자 제거하기\n",
    "문제 설명\n",
    "문자열 my_string과 문자 letter이 매개변수로 주어집니다. my_string에서 letter를 제거한 문자열을 return하도록 solution 함수를 완성해주세요.\n",
    "\n",
    "제한사항\n",
    "1 ≤ my_string의 길이 ≤ 100\n",
    "letter은 길이가 1인 영문자입니다.\n",
    "my_string과 letter은 알파벳 대소문자로 이루어져 있습니다.\n",
    "대문자와 소문자를 구분합니다.\n",
    "\"\"\"\n",
    "\n",
    "def solution(my_string, letter):\n",
    "    \"\"\"\n",
    "    result_string = ''.join(my_list)\n",
    "    \"\"\"\n",
    "    ans_str = \"\"\n",
    "    for x in my_string:\n",
    "        if x == letter:\n",
    "            continue\n",
    "        else:\n",
    "            ans_str += x\n",
    "    return ans_str"
   ]
  },
  {
   "cell_type": "code",
   "execution_count": null,
   "id": "69fff835",
   "metadata": {},
   "outputs": [],
   "source": [
    "\"\"\"\n",
    "배열 자르기\n",
    "문제 설명\n",
    "정수 배열 numbers와 정수 num1, num2가 매개변수로 주어질 때, numbers의 num1번 째 인덱스부터 num2번째 인덱스까지 자른 정수 배열을 return 하도록 solution 함수를 완성해보세요.\n",
    "\n",
    "제한사항\n",
    "2 ≤ numbers의 길이 ≤ 30\n",
    "0 ≤ numbers의 원소 ≤ 1,000\n",
    "0 ≤num1 < num2 < numbers의 길이\n",
    "\"\"\"\n",
    "\n",
    "def solution(numbers, num1, num2):\n",
    "    if num1 >= num2 :\n",
    "        num1, num2 = num2, num1\n",
    "    \n",
    "    return numbers[num1:num2+1]"
   ]
  },
  {
   "cell_type": "code",
   "execution_count": null,
   "id": "5821a994",
   "metadata": {},
   "outputs": [],
   "source": [
    "\"\"\"\n",
    "배열 원소의 길이\n",
    "문제 설명\n",
    "문자열 배열 strlist가 매개변수로 주어집니다. strlist 각 원소의 길이를 담은 배열을 retrun하도록 solution 함수를 완성해주세요.\n",
    "\n",
    "제한사항\n",
    "1 ≤ strlist 원소의 길이 ≤ 100\n",
    "strlist는 알파벳 소문자, 대문자, 특수문자로 구성되어 있습니다.\n",
    "\"\"\"\n",
    "def solution(strlist):\n",
    "    ans_lst = []\n",
    "    for element in strlist:\n",
    "         ans_lst.append(len(element))\n",
    "        \n",
    "    return ans_lst\n"
   ]
  },
  {
   "cell_type": "code",
   "execution_count": null,
   "id": "d4e2328e",
   "metadata": {},
   "outputs": [],
   "source": [
    "\"\"\"\n",
    "머쓱이보다 키 큰 사람\n",
    "문제 설명\n",
    "머쓱이는 학교에서 키 순으로 줄을 설 때 몇 번째로 서야 하는지 궁금해졌습니다. 머쓱이네 반 친구들의 키가 담긴 정수 배열 array와 머쓱이의 키 height가 매개변수로 주어질 때, 머쓱이보다 키 큰 사람 수를 return 하도록 solution 함수를 완성해보세요.\n",
    "\n",
    "제한사항\n",
    "1 ≤ array의 길이 ≤ 100\n",
    "1 ≤ height ≤ 200\n",
    "1 ≤ array의 원소 ≤ 200\n",
    "\"\"\"\n",
    "\n",
    "def solution(array, height):\n",
    "    \"\"\"#키가 담긴 정수 배열\n",
    "    #기준 키\n",
    "    count = 0\n",
    "    for x in array:\n",
    "        if x > height :\n",
    "            count += 1\n",
    "    return count#기준 키보다 큰 사람의 수\n",
    "    \"\"\"\n",
    "    return len(list(filter(lambda x : x > height , array ))) \n",
    "    \n",
    "\"\"\"\n",
    "#filter\n",
    "filter(lambda x : x > height , array )\n",
    "\"\"\""
   ]
  },
  {
   "cell_type": "code",
   "execution_count": null,
   "id": "584cbffc",
   "metadata": {},
   "outputs": [],
   "source": [
    "\"\"\"\n",
    "편지\n",
    "문제 설명\n",
    "머쓱이는 할머니께 생신 축하 편지를 쓰려고 합니다. 할머니가 보시기 편하도록 글자 한 자 한 자를 가로 2cm 크기로 적으려고 하며, 편지를 가로로만 적을 때, 축하 문구 message를 적기 위해 필요한 편지지의 최소 가로길이를 return 하도록 solution 함수를 완성해주세요.\n",
    "\n",
    "제한사항\n",
    "공백도 하나의 문자로 취급합니다.\n",
    "1 ≤ message의 길이 ≤ 50\n",
    "편지지의 여백은 생각하지 않습니다.\n",
    "message는 영문 알파벳 대소문자, ‘!’, ‘~’ 또는 공백으로만 이루어져 있습니다.\n",
    "\"\"\"\n",
    "def solution(message):\n",
    "    # 한 칸의 크기 : 2cm\n",
    "    # 공백\n",
    "    return len(message)*2\n",
    "\n",
    "def solution(message):\n",
    "    return len(message)<<1"
   ]
  },
  {
   "cell_type": "code",
   "execution_count": null,
   "id": "b381b677",
   "metadata": {},
   "outputs": [],
   "source": [
    "\"\"\"\n",
    "공배수 \n",
    "공약수\n",
    "import math\n",
    "\n",
    "def lcm(a, b):\n",
    "    # 최소공배수(LCM) 계산\n",
    "    return abs(a * b) // math.gcd(a, b)\n",
    "\n",
    "# 테스트 예시\n",
    "num1 = 12\n",
    "num2 = 18\n",
    "result = lcm(num1, num2)\n",
    "\n",
    "\"분자\"는 \"Numerator\"이며, \"분모\"는 \"Denominator\"입니다.\n",
    "\n",
    "print(f\"{num1}와 {num2}의 최소공배수는 {result}입니다.\")\n",
    "\"\"\""
   ]
  },
  {
   "cell_type": "code",
   "execution_count": null,
   "id": "6409e9d9",
   "metadata": {},
   "outputs": [],
   "source": [
    "\"\"\"\n",
    "자릿수 더하기\n",
    "문제 설명\n",
    "정수 n이 매개변수로 주어질 때 n의 각 자리 숫자의 합을 return하도록 solution 함수를 완성해주세요\n",
    "\n",
    "제한사항\n",
    "0 ≤ n ≤ 1,000,000\n",
    "\"\"\"\n",
    "\n",
    "def solution(n):\n",
    "    # //1,10, ... \n",
    "    # str > int > sum\n",
    "    sum = 0\n",
    "    for char_num in str(n):\n",
    "        sum += int(char_num)\n",
    "    return sum\n",
    "\n",
    "\"\"\"\n",
    " return sum(int(i) for i in str(n))\n",
    "\"\"\""
   ]
  },
  {
   "cell_type": "code",
   "execution_count": null,
   "id": "a1e1d62a",
   "metadata": {},
   "outputs": [],
   "source": [
    "\"\"\"\n",
    "최댓값 만들기 (1)\n",
    "문제 설명\n",
    "정수 배열 numbers가 매개변수로 주어집니다. numbers의 원소 중 두 개를 곱해 만들 수 있는 최댓값을 return하도록 solution 함수를 완성해주세요.\n",
    "\n",
    "제한사항\n",
    "0 ≤ numbers의 원소 ≤ 10,000\n",
    "2 ≤ numbers의 길이 ≤ 100\n",
    "\"\"\"\n",
    "def solution(numbers):\n",
    "    # 0 & 양의 정수\n",
    "    sorted_lst = sorted(numbers)\n",
    "    x = sorted_lst.pop()\n",
    "    y = sorted_lst.pop()\n",
    "\n",
    "    \n",
    "    return x*y"
   ]
  },
  {
   "cell_type": "code",
   "execution_count": null,
   "id": "f103c79a",
   "metadata": {},
   "outputs": [],
   "source": [
    "\n",
    "\"\"\"\n",
    "짝수 홀수 개수\n",
    "문제 설명\n",
    "정수가 담긴 리스트 num_list가 주어질 때, num_list의 원소 중 짝수와 홀수의 개수를 담은 배열을 return 하도록 solution 함수를 완성해보세요.\n",
    "\n",
    "제한사항\n",
    "1 ≤ num_list의 길이 ≤ 100\n",
    "0 ≤ num_list의 원소 ≤ 1,000\n",
    "\"\"\"\n",
    "def solution(num_list):\n",
    "    count_eve = 0\n",
    "    count_odd = 0\n",
    "    for num in num_list:\n",
    "        if num%2==0:\n",
    "            count_eve +=1\n",
    "        else:\n",
    "            count_odd +=1\n",
    "    return [count_eve, count_odd]#[#_짝수, #_홀수]\n",
    "\n",
    "\"\"\"\n",
    "def solution(num_list):\n",
    "    answer = [0,0]\n",
    "    for n in num_list:\n",
    "        answer[n%2]+=1\n",
    "    return answer\n",
    "\"\"\"\n",
    "\"\"\"\n",
    "def solution(num_list):\n",
    "    odd = sum(1 for n in num_list if n % 2)\n",
    "    return [len(num_list) - odd, odd]\n",
    "\"\"\""
   ]
  },
  {
   "cell_type": "code",
   "execution_count": null,
   "id": "06e4b93b",
   "metadata": {},
   "outputs": [],
   "source": [
    "\"\"\"\n",
    "문자열안에 문자열\n",
    "문제 설명\n",
    "문자열 str1, str2가 매개변수로 주어집니다. str1 안에 str2가 있다면 1을 없다면 2를 return하도록 solution 함수를 완성해주세요.\n",
    "\n",
    "제한사항\n",
    "1 ≤ str1의 길이 ≤ 100\n",
    "1 ≤ str2의 길이 ≤ 100\n",
    "문자열은 알파벳 대문자, 소문자, 숫자로 구성되어 있습니다.\n",
    "\n",
    "\"\"\"\n",
    "\n",
    "def solution(str1, str2):\n",
    "    \n",
    "    return 1 if str2 in str1 else 2"
   ]
  },
  {
   "cell_type": "code",
   "execution_count": null,
   "id": "4acf309a",
   "metadata": {},
   "outputs": [],
   "source": [
    "\"\"\"\n",
    "짝수는 싫어요\n",
    "문제 설명\n",
    "정수 n이 매개변수로 주어질 때, n 이하의 홀수가 오름차순으로 담긴 배열을 return하도록 solution 함수를 완성해주세요.\n",
    "\"\"\"\n",
    "\n",
    "def solution(n): \n",
    "    return list(range(1,n+1))[::2]"
   ]
  },
  {
   "cell_type": "code",
   "execution_count": null,
   "id": "3ce92e29",
   "metadata": {},
   "outputs": [],
   "source": [
    "\"\"\"\n",
    "점의 위치 구하기\n",
    "문제 설명\n",
    "사분면은 한 평면을 x축과 y축을 기준으로 나눈 네 부분입니다. 사분면은 아래와 같이 1부터 4까지 번호를매깁니다.\n",
    "x 좌표 (x, y)를 차례대로 담은 정수 배열 dot이 매개변수로 주어집니다. 좌표 dot이 사분면 중 어디에 속하는지 1, 2, 3, 4 중 하나를 return 하도록 solution 함수를 완성해주세요.\n",
    "\n",
    "제한사항\n",
    "dot의 길이 = 2\n",
    "dot[0]은 x좌표를, dot[1]은 y좌표를 나타냅니다\n",
    "-500 ≤ dot의 원소 ≤ 500\n",
    "dot의 원소는 0이 아닙니다.\n",
    "\"\"\"\n",
    "\n",
    "def solution(dot):\n",
    "    if (dot[0] > 0) or (dot[1] > 0) :\n",
    "        return 4 if dot[1] <0 else 2 if dot[0] <0 else 1 \n",
    "    else :\n",
    "        return 3\n",
    "    return #dot이 속하는 사분면\n",
    "\n",
    "1\n",
    "2\n",
    "3\n",
    "4\n",
    "def solution(dot):\n",
    "    quad = [(3,2),(4,1)]\n",
    "    return quad[dot[0] > 0][dot[1] > 0]"
   ]
  },
  {
   "cell_type": "code",
   "execution_count": null,
   "id": "199d5b69",
   "metadata": {},
   "outputs": [],
   "source": [
    "\"\"\"\n",
    "나머지가 1이 되는 수 찾기\n",
    "문제 설명\n",
    "자연수 n이 매개변수로 주어집니다. n을 x로 나눈 나머지가 1이 되도록 하는 가장 작은 자연수 x를 return 하도록 solution 함수를 완성해주세요. 답이 항상 존재함은 증명될 수 있습니다.\n",
    "\n",
    "제한사항\n",
    "3 ≤ n ≤ 1,000,000\n",
    "입출력 예\n",
    "n\tresult\n",
    "10\t3\n",
    "12\t11\n",
    "\"\"\"\n",
    "\n",
    "def solution(n):\n",
    "    # n = 몫 * x + 1 몫의 최댓값 > x가 최솟값\n",
    "    #(n-1) = 몫 * x > x는 n-1의  1이 아닌 가장 작은 약수\n",
    "    counter = 0\n",
    "    for i in range(1, n):          \n",
    "        if (n-1)%i == 0 :\n",
    "            counter +=1\n",
    "        if counter == 2 : \n",
    "            break       \n",
    "    \n",
    "    return i\n",
    "        \n",
    "\n",
    "def solution(n):\n",
    "    return [x for x in range(1,n+1) if n%x==1][0]"
   ]
  },
  {
   "cell_type": "code",
   "execution_count": 14,
   "id": "d4948769",
   "metadata": {},
   "outputs": [
    {
     "name": "stdout",
     "output_type": "stream",
     "text": [
      "1\n",
      "None\n"
     ]
    }
   ],
   "source": [
    "def solution(arr):\n",
    "    if len(arr)==0:\n",
    "        return [-1]\n",
    "    arr_min = min(arr)\n",
    "    print(arr_min)\n",
    "    print(arr.remove(arr_min))\n",
    "\n",
    "\n",
    "solution([4, 3, 2, 1])\n",
    "\n"
   ]
  },
  {
   "cell_type": "code",
   "execution_count": 9,
   "id": "d64446ff",
   "metadata": {},
   "outputs": [
    {
     "name": "stdout",
     "output_type": "stream",
     "text": [
      "[1, 2, 3, 4, 6]\n"
     ]
    }
   ],
   "source": [
    "lst = [1,2,3,4,5,6]\n",
    "lst.remove(5)\n",
    "print(lst)\n"
   ]
  },
  {
   "cell_type": "code",
   "execution_count": null,
   "id": "d0f30bd1",
   "metadata": {},
   "outputs": [],
   "source": [
    "#약수의 개수와 덧셈 \n",
    "def solution(left, right):\n",
    "    ans = 0\n",
    "    for x in range(left, right+1):\n",
    "        counter = 0\n",
    "        for d in range(1, x+1):\n",
    "            if x % d ==0:\n",
    "                counter +=1\n",
    "        if counter %2 ==0:\n",
    "            ans += x\n",
    "        else :            \n",
    "            ans -= x\n",
    "    return ans\n",
    "\n",
    "\n",
    "#제곱수의 약수 개수는 홀수 \n",
    "def solution(left, right):\n",
    "    answer = 0\n",
    "    for i in range(left,right+1):\n",
    "        if int(i**0.5)==i**0.5:\n",
    "            answer -= i\n",
    "        else:\n",
    "            answer += i\n",
    "    return answer"
   ]
  },
  {
   "cell_type": "code",
   "execution_count": null,
   "id": "8dbacc77",
   "metadata": {},
   "outputs": [],
   "source": [
    "def solution(s):\n",
    "    return ''.join(sorted(list(s), reverse = True))"
   ]
  },
  {
   "cell_type": "code",
   "execution_count": 15,
   "id": "952fdaab",
   "metadata": {},
   "outputs": [
    {
     "name": "stdout",
     "output_type": "stream",
     "text": [
      "TEST: 10\n"
     ]
    }
   ],
   "source": [
    "#부족한 금액 계산하기\n",
    "\"\"\"\n",
    "문제 설명\n",
    "새로 생긴 놀이기구는 인기가 매우 많아 줄이 끊이질 않습니다. 이 놀이기구의 원래 이용료는 price원 인데, 놀이기구를 N 번 째 이용한다면 원래 이용료의 N배를 받기로 하였습니다. 즉, 처음 이용료가 100이었다면 2번째에는 200, 3번째에는 300으로 요금이 인상됩니다.\n",
    "놀이기구를 count번 타게 되면 현재 자신이 가지고 있는 금액에서 얼마가 모자라는지를 return 하도록 solution 함수를 완성하세요.\n",
    "단, 금액이 부족하지 않으면 0을 return 하세요.\n",
    "\n",
    "제한사항\n",
    "놀이기구의 이용료 price : 1 ≤ price ≤ 2,500, price는 자연수\n",
    "처음 가지고 있던 금액 money : 1 ≤ money ≤ 1,000,000,000, money는 자연수\n",
    "놀이기구의 이용 횟수 count : 1 ≤ count ≤ 2,500, count는 자연수\n",
    "\n",
    "테스트 4에서 계속 실패했는데. '단, 금액이 부족하지 않으면 0을 반환하시오.' <-- 이거 때문....\n",
    "\"\"\"\n",
    "def solution(price, money, count):\n",
    "    for i in range(count+1):\n",
    "        money -= price*i\n",
    "    if money <=0:\n",
    "        return abs(money)    \n",
    "    else: \n",
    "        return 0\n",
    "\n",
    "\n",
    "\n",
    "def solution(price, money, count):\n",
    "    return max(0,price*(count+1)*count//2-money)\n",
    "\n",
    "\n",
    "print(\"TEST:\",solution(3,20,4))\n",
    "\n",
    "\n",
    "\n",
    "\n"
   ]
  },
  {
   "cell_type": "code",
   "execution_count": 19,
   "id": "d8f78682",
   "metadata": {},
   "outputs": [
    {
     "name": "stdout",
     "output_type": "stream",
     "text": [
      "true\n"
     ]
    }
   ],
   "source": [
    "#문자열 다루기 기본\n",
    "\"\"\"\n",
    "문제 설명\n",
    "문자열 s의 길이가 4 혹은 6이고, 숫자로만 구성돼있는지 확인해주는 함수, solution을 완성하세요. 예를 들어 s가 \"a234\"이면 False를 리턴하고 \"1234\"라면 True를 리턴하면 됩니다.\n",
    "\n",
    "제한 사항\n",
    "s는 길이 1 이상, 길이 8 이하인 문자열입니다.\n",
    "s는 영문 알파벳 대소문자 또는 0부터 9까지 숫자로 이루어져 있습니다.\n",
    "\"\"\"\n",
    "def solution(s):\n",
    "    #문자열의 길이가 4 또는 6\n",
    "    #숫자로만 구성? .isdigit\n",
    "    return True if (len(s) in {4,6} ) and (s.isdigit()) else False\n",
    "\n",
    "print(solution('1234'))\n",
    "\n"
   ]
  },
  {
   "cell_type": "code",
   "execution_count": 28,
   "id": "0a70115f",
   "metadata": {},
   "outputs": [
    {
     "name": "stdout",
     "output_type": "stream",
     "text": [
      "[[4, 6], [7, 9]]\n"
     ]
    }
   ],
   "source": [
    "\"\"\"\n",
    "행렬의 덧셈\n",
    "문제 설명\n",
    "행렬의 덧셈은 행과 열의 크기가 같은 두 행렬의 같은 행, 같은 열의 값을 서로 더한 결과가 됩니다. 2개의 행렬 arr1과 arr2를 입력받아, 행렬 덧셈의 결과를 반환하는 함수, solution을 완성해주세요.\n",
    "\n",
    "제한 조건\n",
    "행렬 arr1, arr2의 행과 열의 길이는 500을 넘지 않습니다.\n",
    "\"\"\"\n",
    "\n",
    "def row_sum(arr1, arr2):\n",
    "    return [x + y for x, y in zip(arr1, arr2)]\n",
    "\n",
    "def solution(arr1, arr2):\n",
    "    #[[1행],[2행]]\n",
    "    #행 길이 : len(a[0])\n",
    "    \"\"\"\n",
    "    #리스트 연결     \n",
    "    row_1 = arr1[0] + arr2[0] \n",
    "    row_2 = arr2[1]+ arr2[1]\n",
    "    \"\"\"\n",
    "    col_l = len(arr1)\n",
    "    ans = []\n",
    "    for i in range(col_l):\n",
    "        ans.append(row_sum(arr1[i], arr2[i]))\n",
    "    return ans\n",
    "\n",
    "arr1 = [[1,2],[2,3]]\n",
    "arr2 = [[3,4],[5,6]]\n",
    "print(solution(arr1, arr2))\n",
    "#print(len(arr1))\n",
    "\"\"\"\n",
    "def sumMatrix(A,B):\n",
    "    answer = [[c + d for c, d in zip(a,b)] for a, b in zip(A,B)]\n",
    "    return answer\n",
    "\n",
    "def sumMatrix(A,B):\n",
    "    return [list(map(sum, zip(*x))) for x in zip(A, B)]    \n",
    "\"\"\"\n"
   ]
  },
  {
   "cell_type": "code",
   "execution_count": 45,
   "id": "4be144d1",
   "metadata": {},
   "outputs": [
    {
     "name": "stdout",
     "output_type": "stream",
     "text": [
      "**\n",
      "**\n",
      "------------\n"
     ]
    }
   ],
   "source": [
    "\"\"\"\n",
    "직사각형 별찍기\n",
    "문제 설명\n",
    "이 문제에는 표준 입력으로 두 개의 정수 n과 m이 주어집니다.\n",
    "별(*) 문자를 이용해 가로의 길이가 n, 세로의 길이가 m인 직사각형 형태를 출력해보세요.\n",
    "\"\"\"\n",
    "\n",
    "def solution(n,m):\n",
    "    pass\n",
    "    lst = [\"*\"]*n +[\"\\n\"]\n",
    "    ans = ''.join(lst * (m-1) +[\"*\"]*n)\n",
    "    return ans\n",
    "        \n",
    "\n",
    "\n",
    "print(solution(2,2))\n",
    "print(\"------------\")  \n"
   ]
  },
  {
   "cell_type": "code",
   "execution_count": 46,
   "id": "810b6f03",
   "metadata": {},
   "outputs": [],
   "source": [
    "\"\"\"\n",
    "최대공약수와 최대공배수\n",
    "문제 설명\n",
    "두 수를 입력받아 두 수의 최대공약수와 최소공배수를 반환하는 함수, solution을 완성해 보세요. 배열의 맨 앞에 최대공약수, 그다음 최소공배수를 넣어 반환하면 됩니다. 예를 들어 두 수 3, 12의 최대공약수는 3, 최소공배수는 12이므로 solution(3, 12)는 [3, 12]를 반환해야 합니다.\n",
    "\n",
    "제한 사항\n",
    "두 수는 1이상 1000000이하의 자연수입니다.\n",
    "\"\"\"\n",
    "\n",
    "def solution(n, m):\n",
    "    lcd = 1\n",
    "    for d in range(2,min(n,m)+1):\n",
    "        if n%d == 0 and m%d ==0:\n",
    "            lcd = d\n",
    "    \n",
    "    gcd = (n*m)//lcd\n",
    "    return [lcd, gcd]"
   ]
  },
  {
   "cell_type": "code",
   "execution_count": null,
   "id": "15e6a8bb",
   "metadata": {},
   "outputs": [],
   "source": []
  },
  {
   "cell_type": "code",
   "execution_count": 3,
   "id": "c6f01025",
   "metadata": {},
   "outputs": [
    {
     "name": "stdout",
     "output_type": "stream",
     "text": [
      "['t', 'r', 'y', ' ', 'h', 'e', 'l', 'l', 'o', ' ', 'w', 'o', 'r', 'l', 'd']\n",
      "['try', 'hello', 'world']\n"
     ]
    }
   ],
   "source": [
    "\"\"\"\n",
    "# 이상한 문자열 만들기\n",
    "문제 설명\n",
    "문자열 s는 한 개 이상의 단어로 구성되어 있습니다. 각 단어는 하나 이상의 공백문자로 구분되어 있습니다. 각 단어의 짝수번째 알파벳은 대문자로, 홀수번째 알파벳은 소문자로 바꾼 문자열을 리턴하는 함수, solution을 완성하세요.\n",
    "\n",
    "제한 사항\n",
    "문자열 전체의 짝/홀수 인덱스가 아니라, 단어(공백을 기준)별로 짝/홀수 인덱스를 판단해야합니다.\n",
    "첫 번째 글자는 0번째 인덱스로 보아 짝수번째 알파벳으로 처리해야 합니다.\"\"\"\n",
    "\n",
    "lst = \"try hello world\"\n",
    "\n",
    "print(list(lst))\n",
    "print(lst.split(\" \"))\n",
    "\n",
    "#공백을 만나면 공백이 아닌 문자가 나타날 때까지 다음 원소로 넘어감\n",
    "i = 0\n",
    "ans =\"\"\n",
    "while i < len(s) and s[i] != \" \":\n",
    "    if i % 2 == 0:\n",
    "        ans += s[i].upper()\n",
    "    else :\n",
    "        ans += s[i].lower()\n",
    "    i += 1\n",
    "ans += \" \"    \n",
    "\n",
    "def solution(s):\n",
    "    words = s.split(\" \")\n",
    "    result = []\n",
    "    for word in words:\n",
    "        s = \"\"\n",
    "        for i in range(len(word)):\n",
    "            if i %2 == 0:\n",
    "                s += word[i].upper()\n",
    "            else :\n",
    "                s += word[i].lower()\n",
    "        result.append(s)    \n",
    "    return \" \".join(result)\n",
    "\n",
    "    \n"
   ]
  },
  {
   "cell_type": "code",
   "execution_count": null,
   "id": "4b1bffbc",
   "metadata": {},
   "outputs": [],
   "source": [
    "\"\"\"크기가 작은 부분문자열\n",
    "문제 설명\n",
    "숫자로 이루어진 문자열 t와 p가 주어질 때, t에서 p와 길이가 같은 부분문자열 중에서, 이 부분문자열이 나타내는 수가 p가 나타내는 수보다 작거나 같은 것이 나오는 횟수를 return하는 함수 solution을 완성하세요.\n",
    "\n",
    "예를 들어, t=\"3141592\"이고 p=\"271\" 인 경우, t의 길이가 3인 부분 문자열은 314, 141, 415, 159, 592입니다. 이 문자열이 나타내는 수 중 271보다 작거나 같은 수는 141, 159 2개 입니다.\n",
    "\n",
    "제한사항\n",
    "1 ≤ p의 길이 ≤ 18\n",
    "p의 길이 ≤ t의 길이 ≤ 10,000\n",
    "t와 p는 숫자로만 이루어진 문자열이며, 0으로 시작하지 않습니다.\"\"\"\n",
    "\n",
    "def solution(t, p):\n",
    "    lt = len(t)\n",
    "    lp = len(p)\n",
    "    if lt >= lp:\n",
    "        i = 0\n",
    "        int_p = int(p)\n",
    "        counter = 0\n",
    "        while i+lp <= lt:\n",
    "            if int(t[i:i+lp]) <= int_p:\n",
    "                counter += 1\n",
    "            i += 1\n",
    "        return counter\n",
    "\"\"\"\n",
    "def solution(t, p):\n",
    "    answer = 0\n",
    "\n",
    "    for i in range(len(t) - len(p) + 1):\n",
    "        if int(p) >= int(t[i:i+len(p)]):\n",
    "            answer += 1\n",
    "\n",
    "    return answer\n",
    "\"\"\""
   ]
  },
  {
   "cell_type": "code",
   "execution_count": 1,
   "id": "b1b63f6b",
   "metadata": {},
   "outputs": [
    {
     "name": "stdout",
     "output_type": "stream",
     "text": [
      "1478\n",
      "234567\n",
      "10203\n"
     ]
    }
   ],
   "source": [
    "def solution(s):\n",
    "    word_dict = {\n",
    "        \"zero\": \"0\",\n",
    "        \"one\": \"1\",\n",
    "        \"two\": \"2\",\n",
    "        \"three\": \"3\",\n",
    "        \"four\": \"4\",\n",
    "        \"five\": \"5\",\n",
    "        \"six\": \"6\",\n",
    "        \"seven\": \"7\",\n",
    "        \"eight\": \"8\",\n",
    "        \"nine\": \"9\"\n",
    "    }\n",
    "\n",
    "    answer = s\n",
    "    for key, value in word_dict.items():\n",
    "        answer = answer.replace(key, value)\n",
    "\n",
    "    return int(answer)\n",
    "\n",
    "s1 = \"one4seveneight\"\n",
    "s2 = \"23four5six7\"\n",
    "s3 = \"1zerotwozero3\"\n",
    "\n",
    "print(solution(s1))  # 1478\n",
    "print(solution(s2))  # 234567\n",
    "print(solution(s3))  # 10203\n",
    "\n"
   ]
  },
  {
   "cell_type": "code",
   "execution_count": null,
   "id": "74cf9a78",
   "metadata": {},
   "outputs": [],
   "source": [
    "#명함 만들기\n",
    "\n",
    "def solution(sizes):\n",
    "    return max(max(x) for x in sizes) * max(min(x) for x in sizes)\n",
    "\n",
    "def solution(sizes):\n",
    "    last_w = []\n",
    "    last_h = []\n",
    "    for arr in sizes:\n",
    "        if arr[0] < arr[1]:\n",
    "            arr[0], arr[1] = arr[1], arr[0]\n",
    "        last_w.append(arr[0])\n",
    "        last_h.append(arr[1])\n",
    "    return max(last_w)*max(last_h)\n",
    "\n",
    "def solution(sizes):\n",
    "    max_w = 0\n",
    "    max_h = 0\n",
    "    for arr in sizes:\n",
    "        if arr[0] < arr[1]:\n",
    "            arr[0], arr[1] = arr[1], arr[0]\n",
    "        if max_w < arr[0]: max_w = arr[0]\n",
    "        if max_h < arr[1] : max_h = arr[1]\n",
    "    return max_w*max_h\n"
   ]
  },
  {
   "cell_type": "code",
   "execution_count": null,
   "id": "197ba67f",
   "metadata": {},
   "outputs": [],
   "source": [
    "# 정수 3개 합 0\n",
    "from itertools import combinations\n",
    "\n",
    "def solution(number):\n",
    "    count = 0\n",
    "    n = len(number)\n",
    "\n",
    "    \n",
    "    for comb in combinations(range(n), 3):\n",
    "        \n",
    "        if sum(number[i] for i in comb) == 0:\n",
    "            count += 1\n",
    "\n",
    "    return count"
   ]
  },
  {
   "cell_type": "code",
   "execution_count": null,
   "id": "38209012",
   "metadata": {},
   "outputs": [],
   "source": [
    "#예산\n",
    "def solution(d, budget):\n",
    "    count = 0\n",
    "    for req in sorted(d):\n",
    "        if budget>=req :\n",
    "            budget -= req\n",
    "            count += 1\n",
    "        else:\n",
    "            break\n",
    "    return count"
   ]
  },
  {
   "cell_type": "code",
   "execution_count": null,
   "id": "19f04175",
   "metadata": {},
   "outputs": [],
   "source": [
    "\n",
    "#같은 문자는 싫어\n",
    "def solution(arr):\n",
    "    result = []\n",
    "    i = 0\n",
    "    while i <len(arr):\n",
    "        result.append(arr[i])\n",
    "        j = i+1\n",
    "        while j <len(arr) and arr[i]==arr[j]:\n",
    "            j += 1\n",
    "        i = j\n",
    "    return result"
   ]
  },
  {
   "cell_type": "code",
   "execution_count": 3,
   "id": "a83900e2",
   "metadata": {},
   "outputs": [
    {
     "name": "stdout",
     "output_type": "stream",
     "text": [
      "cd\n"
     ]
    }
   ],
   "source": [
    "#시저암호\n",
    "def solution(s,n):\n",
    "    def ftn(alp):\n",
    "        arr_alpha = list(\"abcdefghijklmnopqrstuvwxyz\")\n",
    "        x= alp.lower()\n",
    "        i = arr_alpha.index(x)\n",
    "        if i+n > 25 :\n",
    "            return arr_alpha[i+n-26]\n",
    "        else:\n",
    "            return arr_alpha[i+n]\n",
    "        \n",
    "    result =  \"\"\n",
    "    \n",
    "    for cha in s:\n",
    "        if cha == \" \": result += \" \"\n",
    "        else:\n",
    "            if cha.isupper():\n",
    "                result += ftn(cha).upper()\n",
    "            else:\n",
    "                result += ftn(cha)\n",
    "            \n",
    "    return result\n",
    "print(solution(\"ab\",2))\n",
    "\n",
    "\n",
    "\n",
    "\"\"\"\n",
    "def caesar(s, n):\n",
    "    s = list(s)\n",
    "    for i in range(len(s)):\n",
    "        if s[i].isupper():\n",
    "            s[i]=chr((ord(s[i])-ord('A')+ n)%26+ord('A'))\n",
    "        elif s[i].islower():\n",
    "            s[i]=chr((ord(s[i])-ord('a')+ n)%26+ord('a'))\n",
    "\n",
    "    return \"\".join(s)\n",
    "    # 주어진 문장을 암호화하여 반환하세요.\n",
    "\n",
    "\n",
    "# 실행을 위한 테스트코드입니다.\n",
    "print('s는 \"a B z\", n은 4인 경우: ' + caesar(\"a B z\", 4))\n",
    "\"\"\"\n",
    "\n",
    "\n",
    "\n"
   ]
  },
  {
   "cell_type": "code",
   "execution_count": null,
   "id": "5af1d9f3",
   "metadata": {},
   "outputs": [],
   "source": []
  },
  {
   "cell_type": "code",
   "execution_count": null,
   "id": "ed5f374f",
   "metadata": {},
   "outputs": [],
   "source": []
  },
  {
   "cell_type": "code",
   "execution_count": null,
   "id": "43a68b4b",
   "metadata": {},
   "outputs": [],
   "source": []
  },
  {
   "cell_type": "code",
   "execution_count": null,
   "id": "f0b69134",
   "metadata": {},
   "outputs": [],
   "source": []
  },
  {
   "cell_type": "code",
   "execution_count": null,
   "id": "5de3cf24",
   "metadata": {},
   "outputs": [],
   "source": []
  },
  {
   "cell_type": "code",
   "execution_count": null,
   "id": "1fd9c8e7",
   "metadata": {},
   "outputs": [],
   "source": []
  }
 ],
 "metadata": {
  "kernelspec": {
   "display_name": "Python 3 (ipykernel)",
   "language": "python",
   "name": "python3"
  },
  "language_info": {
   "codemirror_mode": {
    "name": "ipython",
    "version": 3
   },
   "file_extension": ".py",
   "mimetype": "text/x-python",
   "name": "python",
   "nbconvert_exporter": "python",
   "pygments_lexer": "ipython3",
   "version": "3.9.7"
  }
 },
 "nbformat": 4,
 "nbformat_minor": 5
}
