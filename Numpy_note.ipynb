{
 "cells": [
  {
   "cell_type": "code",
   "execution_count": 2,
   "id": "d0b2448a",
   "metadata": {},
   "outputs": [],
   "source": [
    "import numpy as np\n"
   ]
  },
  {
   "cell_type": "code",
   "execution_count": null,
   "id": "3e644def",
   "metadata": {},
   "outputs": [],
   "source": [
    "# Python List -> np.array()\n",
    "\n",
    "np_arr = np.array(python_list)\n",
    "\n",
    "\"\"\"\n",
    "Numpy는 다차원 배열 작업을 지원하므로 배열을 다룰 때 유용하다.\n",
    "\"\"\""
   ]
  },
  {
   "cell_type": "code",
   "execution_count": 9,
   "id": "772554f7",
   "metadata": {},
   "outputs": [
    {
     "name": "stdout",
     "output_type": "stream",
     "text": [
      "200\n",
      "----\n",
      "[[1 2 3]\n",
      " [4 5 6]]\n",
      "--np.sum--\n",
      "axis=0 : 21\n",
      "axis=1 : [ 6 15]\n"
     ]
    }
   ],
   "source": [
    "# np.arr의 원소들의 합  : np.sum(np_arr)\n",
    "\n",
    "\n",
    "data = [10, 25, 40, 55, 70]\n",
    "np_arr = np.array(data)\n",
    "arr_sum = np.sum(np_arr)\n",
    "print(arr_sum)\n",
    "print(\"----\")\n",
    "# \n",
    "np_2d = np.array([[1,2,3],[4,5,6]])\n",
    "print(np_2d)\n",
    "np_2d_sum_0 = np.sum(np_2d)\n",
    "\n",
    "np_2d_sum_1 = np.sum(np_2d, axis=1)\n",
    "print('--np.sum--')\n",
    "print(\"axis=0 :\",np_2d_sum_0)\n",
    "print(\"axis=1 :\",np_2d_sum_1)\n"
   ]
  },
  {
   "cell_type": "code",
   "execution_count": 11,
   "id": "4b1fecf9",
   "metadata": {},
   "outputs": [
    {
     "name": "stdout",
     "output_type": "stream",
     "text": [
      "40.0\n"
     ]
    }
   ],
   "source": [
    "# len(np_arr)\n",
    "arr_l = len(np_arr)\n",
    "avr_arr = arr_sum/arr_l\n",
    "print(avr_arr)"
   ]
  },
  {
   "cell_type": "code",
   "execution_count": 14,
   "id": "db780096",
   "metadata": {},
   "outputs": [
    {
     "name": "stdout",
     "output_type": "stream",
     "text": [
      "(2, 3)\n"
     ]
    }
   ],
   "source": [
    "# np.arr의 차원 확인  np_arr.shape : 배열의 각 차원의 크기를 tuple에 담아 반환한다.\n",
    "\n",
    "np_2d = np.array([[1,2,3],[4,5,6]])\n",
    "\n",
    "np_2d_dim = np_2d.shape\n",
    "print(np_2d_dim)"
   ]
  },
  {
   "cell_type": "code",
   "execution_count": 24,
   "id": "ed35fa8f",
   "metadata": {},
   "outputs": [
    {
     "name": "stdout",
     "output_type": "stream",
     "text": [
      "6\n"
     ]
    }
   ],
   "source": [
    "# 배열에 담긴 총 원소의 개수 : np_arr.size\n",
    "np_2d = np.array([[1,2,3],[4,5,6]])\n",
    "\n",
    "print(np_2d.size)"
   ]
  },
  {
   "cell_type": "code",
   "execution_count": 16,
   "id": "7492e1ab",
   "metadata": {},
   "outputs": [
    {
     "name": "stdout",
     "output_type": "stream",
     "text": [
      "mean_0 :  3.5\n",
      "mean_1 :  [2. 5.]\n"
     ]
    }
   ],
   "source": [
    "# np.mean(np_arr) : 평균구하기\n",
    "# axis =0\n",
    "# axis =1\n",
    "\n",
    "np_2d = np.array([[1,2,3],[4,5,6]])\n",
    "mean_0 = np.mean(np_2d)\n",
    "mean_1 = np.mean(np_2d, axis=1)\n",
    "\n",
    "print(\"mean_0 : \", mean_0)\n",
    "print(\"mean_1 : \", mean_1) #각 행의 평균을 반환"
   ]
  },
  {
   "cell_type": "code",
   "execution_count": 17,
   "id": "864fa44e",
   "metadata": {},
   "outputs": [
    {
     "name": "stdout",
     "output_type": "stream",
     "text": [
      "배열의 최댓값: 8\n",
      "배열의 최솟값: 1\n",
      "각 열의 최댓값: [4 5 6]\n",
      "각 열의 최솟값: [1 2 3]\n",
      "각 행의 최댓값: [3 6]\n",
      "각 행의 최솟값: [1 4]\n"
     ]
    }
   ],
   "source": [
    "#np.max(np_arr)\n",
    "#np.min(np_arr)\n",
    "\n",
    "my_array = np.array([1, 5, 3, 7, 2, 8, 4])\n",
    "\n",
    "# 배열의 최댓값과 최솟값 계산\n",
    "max_value = np.max(my_array)\n",
    "min_value = np.min(my_array)\n",
    "\n",
    "# 결과 출력\n",
    "print(\"배열의 최댓값:\", max_value)\n",
    "print(\"배열의 최솟값:\", min_value)\n",
    "\n",
    "my_2d_array = np.array([[1, 2, 3], [4, 5, 6]])\n",
    "\n",
    "# 각 열(axis=0)의 최댓값과 최솟값 계산\n",
    "max_along_columns = np.max(my_2d_array, axis=0)\n",
    "min_along_columns = np.min(my_2d_array, axis=0)\n",
    "\n",
    "# 각 행(axis=1)의 최댓값과 최솟값 계산\n",
    "max_along_rows = np.max(my_2d_array, axis=1)\n",
    "min_along_rows = np.min(my_2d_array, axis=1)\n",
    "\n",
    "# 결과 출력\n",
    "print(\"각 열의 최댓값:\", max_along_columns)\n",
    "print(\"각 열의 최솟값:\", min_along_columns)\n",
    "print(\"각 행의 최댓값:\", max_along_rows)\n",
    "print(\"각 행의 최솟값:\", min_along_rows)"
   ]
  },
  {
   "cell_type": "code",
   "execution_count": 20,
   "id": "1c926db9",
   "metadata": {},
   "outputs": [
    {
     "name": "stdout",
     "output_type": "stream",
     "text": [
      "[1. 2. 3. 4. 5.]\n",
      "***___***___\n",
      "[1. 2. 3. 4. 5.]\n"
     ]
    }
   ],
   "source": [
    "# np.divide(np_arr, k) -> 각 원소를 k로 나눈 값을 담은 np_arr반환\n",
    "my_array = np.array([10, 20, 30, 40, 50])\n",
    "\n",
    "# 각 원소를 10으로 나눈 결과를 담은 새로운 NumPy 배열 생성\n",
    "result_array = np.divide(my_array, 10)\n",
    "\n",
    "# 결과 출력\n",
    "print(result_array)\n",
    "print('***___***___')\n",
    "\n",
    "my_array = np.array([10, 20, 30, 40, 50])\n",
    "\n",
    "# 각 원소를 10으로 나눈 결과를 담은 새로운 NumPy 배열 생성\n",
    "result_array = my_array / 10\n",
    "\n",
    "# 결과 출력\n",
    "print(result_array)"
   ]
  },
  {
   "cell_type": "code",
   "execution_count": 23,
   "id": "470234e7",
   "metadata": {},
   "outputs": [
    {
     "name": "stdout",
     "output_type": "stream",
     "text": [
      "[ 4  9 16 25 36]\n"
     ]
    }
   ],
   "source": [
    "# np.power(np_arr, k) : 각 원소의 k승한 np_arr 반환\n",
    "\n",
    "my_arr = np.array([2,3,4,5,6])\n",
    "\n",
    "print(np.power(my_arr, 2))"
   ]
  },
  {
   "cell_type": "code",
   "execution_count": 3,
   "id": "8317b233",
   "metadata": {},
   "outputs": [
    {
     "name": "stdout",
     "output_type": "stream",
     "text": [
      "행렬 A:\n",
      " [[1 2]\n",
      " [3 4]]\n",
      "행렬 B:\n",
      " [[5 6]\n",
      " [7 8]]\n",
      "행렬 곱 결과 (numpy.dot()):\n",
      " [[19 22]\n",
      " [43 50]]\n",
      "행렬 곱 결과 (@ 연산자 사용):\n",
      " [[19 22]\n",
      " [43 50]]\n"
     ]
    }
   ],
   "source": [
    "# 행렬 곱 연산\n",
    "import numpy as np\n",
    "# 두 개의 행렬 생성\n",
    "matrix_A = np.array([[1, 2], [3, 4]])\n",
    "matrix_B = np.array([[5, 6], [7, 8]])\n",
    "\n",
    "# numpy.dot() 함수 사용\n",
    "result_dot = np.dot(matrix_A, matrix_B)\n",
    "\n",
    "# @ 연산자 사용\n",
    "result_at = matrix_A @ matrix_B\n",
    "\n",
    "# 결과 출력\n",
    "print(\"행렬 A:\\n\", matrix_A)\n",
    "print(\"행렬 B:\\n\", matrix_B)\n",
    "print(\"행렬 곱 결과 (numpy.dot()):\\n\", result_dot)\n",
    "print(\"행렬 곱 결과 (@ 연산자 사용):\\n\", result_at)"
   ]
  },
  {
   "cell_type": "code",
   "execution_count": 4,
   "id": "bae01fa3",
   "metadata": {},
   "outputs": [
    {
     "name": "stdout",
     "output_type": "stream",
     "text": [
      "원본 배열 1:\n",
      " [[1 2 3]\n",
      " [4 5 6]]\n",
      "원본 배열 2:\n",
      " [[7 8 9]]\n",
      "연결된 결과 배열 (행 방향으로 연결):\n",
      " [[1 2 3]\n",
      " [4 5 6]\n",
      " [7 8 9]]\n"
     ]
    }
   ],
   "source": [
    "# concatenate 연산 : 주어진 축을 따라 배열을 연결하는데 사용된다.\n",
    "\n",
    "array1 = np.array([[1, 2, 3], [4, 5, 6]])\n",
    "array2 = np.array([[7, 8, 9]])\n",
    "\n",
    "# concatenate 함수를 사용하여 배열 연결 (기본적으로 axis=0, 즉 행 방향으로 연결)\n",
    "result = np.concatenate((array1, array2), axis=0)\n",
    "\n",
    "# 결과 출력\n",
    "print(\"원본 배열 1:\\n\", array1)\n",
    "print(\"원본 배열 2:\\n\", array2)\n",
    "print(\"연결된 결과 배열 (행 방향으로 연결):\\n\", result)"
   ]
  }
 ],
 "metadata": {
  "kernelspec": {
   "display_name": "Python 3 (ipykernel)",
   "language": "python",
   "name": "python3"
  },
  "language_info": {
   "codemirror_mode": {
    "name": "ipython",
    "version": 3
   },
   "file_extension": ".py",
   "mimetype": "text/x-python",
   "name": "python",
   "nbconvert_exporter": "python",
   "pygments_lexer": "ipython3",
   "version": "3.9.18"
  }
 },
 "nbformat": 4,
 "nbformat_minor": 5
}
