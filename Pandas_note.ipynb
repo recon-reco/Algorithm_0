{
 "cells": [
  {
   "cell_type": "markdown",
   "id": "8d89b34c",
   "metadata": {},
   "source": []
  },
  {
   "cell_type": "code",
   "execution_count": null,
   "id": "198cf814",
   "metadata": {},
   "outputs": [],
   "source": [
    "import pandas as pd"
   ]
  },
  {
   "cell_type": "markdown",
   "id": "701b4b66",
   "metadata": {},
   "source": [
    "- csv file 불러오기\n",
    "```\n",
    "df_csv = pd.read_csv('파일경로/파일이름.csv')\n",
    "\n",
    "filepath_or_buffer =\n",
    "sep =  / delimiter =\n",
    "header = 0 #첫 번째 행을 열이름으로 사용\n",
    "index_col =  : DataFrame의 인덱스로 사용할 열을 지정\n",
    "usecols = : 읽어올 열의 목록\n",
    "dtype = : 열의 데이터 타입 지정\n",
    "skiprow = : 처음 몇 행을 건너뛸 것인지를 지정\n",
    "nrows = : 읽어올 행의 수를 지정\n",
    "\n",
    "```\n",
    "\n"
   ]
  }
 ],
 "metadata": {
  "kernelspec": {
   "display_name": "Python 3 (ipykernel)",
   "language": "python",
   "name": "python3"
  },
  "language_info": {
   "codemirror_mode": {
    "name": "ipython",
    "version": 3
   },
   "file_extension": ".py",
   "mimetype": "text/x-python",
   "name": "python",
   "nbconvert_exporter": "python",
   "pygments_lexer": "ipython3",
   "version": "3.11.5"
  }
 },
 "nbformat": 4,
 "nbformat_minor": 5
}
